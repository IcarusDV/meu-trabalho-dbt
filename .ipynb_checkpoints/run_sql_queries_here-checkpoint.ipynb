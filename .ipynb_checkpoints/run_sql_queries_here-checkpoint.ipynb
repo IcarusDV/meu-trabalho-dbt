{
 "cells": [
  {
   "cell_type": "code",
   "execution_count": null,
   "id": "f9456670-4027-4a0a-a429-cecfaa91b35f",
   "metadata": {},
   "outputs": [],
   "source": [
    "import duckdb\n",
    "import pandas as pd\n",
    "import matplotlib as plt\n",
    "\n",
    "%config SqlMagic.autopandas = True\n",
    "%config SqlMagic.feedback = False\n",
    "%config SqlMagic.displaycon = False\n",
    "%load_ext sql"
   ]
  },
  {
   "cell_type": "code",
   "execution_count": null,
   "id": "0c12022c-6d1d-48d2-bdb2-43099a1ac7ba",
   "metadata": {},
   "outputs": [],
   "source": [
    "sql_query = ''' \n",
    "show tables \n",
    "''' \n",
    "\n",
    "with duckdb.connect('data/nyc_parking_violations.db') as con: \n",
    "    display(con.sql(sql_query).df()) "
   ]
  },
  {
   "cell_type": "code",
   "execution_count": null,
   "id": "0fbc5a6b-1d1b-41f1-aebe-4f52d15f2d59",
   "metadata": {},
   "outputs": [],
   "source": []
  }
 ],
 "metadata": {
  "kernelspec": {
   "display_name": "Python 3 (ipykernel)",
   "language": "python",
   "name": "python3"
  },
  "language_info": {
   "codemirror_mode": {
    "name": "ipython",
    "version": 3
   },
   "file_extension": ".py",
   "mimetype": "text/x-python",
   "name": "python",
   "nbconvert_exporter": "python",
   "pygments_lexer": "ipython3",
   "version": "3.13.3"
  }
 },
 "nbformat": 4,
 "nbformat_minor": 5
}
