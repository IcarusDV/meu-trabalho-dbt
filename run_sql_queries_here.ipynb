{
 "cells": [
  {
   "cell_type": "code",
   "execution_count": 35,
   "id": "f9456670-4027-4a0a-a429-cecfaa91b35f",
   "metadata": {},
   "outputs": [
    {
     "name": "stdout",
     "output_type": "stream",
     "text": [
      "The sql extension is already loaded. To reload it, use:\n",
      "  %reload_ext sql\n"
     ]
    }
   ],
   "source": [
    "import duckdb\n",
    "import pandas as pd\n",
    "import matplotlib as plt\n",
    "\n",
    "%config SqlMagic.autopandas = True\n",
    "%config SqlMagic.feedback = False\n",
    "%config SqlMagic.displaycon = False\n",
    "%load_ext sql"
   ]
  },
  {
   "cell_type": "code",
   "execution_count": 36,
   "id": "0c12022c-6d1d-48d2-bdb2-43099a1ac7ba",
   "metadata": {},
   "outputs": [
    {
     "data": {
      "text/html": [
       "<div>\n",
       "<style scoped>\n",
       "    .dataframe tbody tr th:only-of-type {\n",
       "        vertical-align: middle;\n",
       "    }\n",
       "\n",
       "    .dataframe tbody tr th {\n",
       "        vertical-align: top;\n",
       "    }\n",
       "\n",
       "    .dataframe thead th {\n",
       "        text-align: right;\n",
       "    }\n",
       "</style>\n",
       "<table border=\"1\" class=\"dataframe\">\n",
       "  <thead>\n",
       "    <tr style=\"text-align: right;\">\n",
       "      <th></th>\n",
       "      <th>name</th>\n",
       "    </tr>\n",
       "  </thead>\n",
       "  <tbody>\n",
       "    <tr>\n",
       "      <th>0</th>\n",
       "      <td>bronze_parking_violation_codes</td>\n",
       "    </tr>\n",
       "    <tr>\n",
       "      <th>1</th>\n",
       "      <td>bronze_parking_violations</td>\n",
       "    </tr>\n",
       "    <tr>\n",
       "      <th>2</th>\n",
       "      <td>first_model</td>\n",
       "    </tr>\n",
       "    <tr>\n",
       "      <th>3</th>\n",
       "      <td>parking_violation_codes</td>\n",
       "    </tr>\n",
       "    <tr>\n",
       "      <th>4</th>\n",
       "      <td>parking_violations_2024</td>\n",
       "    </tr>\n",
       "    <tr>\n",
       "      <th>5</th>\n",
       "      <td>ref_model</td>\n",
       "    </tr>\n",
       "  </tbody>\n",
       "</table>\n",
       "</div>"
      ],
      "text/plain": [
       "                             name\n",
       "0  bronze_parking_violation_codes\n",
       "1       bronze_parking_violations\n",
       "2                     first_model\n",
       "3         parking_violation_codes\n",
       "4         parking_violations_2024\n",
       "5                       ref_model"
      ]
     },
     "metadata": {},
     "output_type": "display_data"
    }
   ],
   "source": [
    "sql_query = ''' \n",
    "show tables \n",
    "''' \n",
    "\n",
    "with duckdb.connect('data/nyc_parking_violations.db') as con: \n",
    "    display(con.sql(sql_query).df()) "
   ]
  },
  {
   "cell_type": "code",
   "execution_count": 37,
   "id": "3ed5c3c4-2bcd-4f50-b668-51ded9a0d4ec",
   "metadata": {},
   "outputs": [],
   "source": [
    "sql_query_import_1 = '''\n",
    "CREATE OR REPLACE TABLE parking_violation_codes AS\n",
    "SELECT *\n",
    "FROM read_csv_auto(\n",
    "  'data/DOF_Parking_Violation_Codes_20250620.csv',\n",
    "  normalize_names=True\n",
    "  )'''\n",
    "\n",
    "\n",
    "sql_query_import_2 = '''\n",
    "CREATE OR REPLACE TABLE parking_violations_2024 AS\n",
    "SELECT *\n",
    "FROM read_csv_auto(\n",
    "  'data/Parking_Violations_Issued_-_Fiscal_Year_2024_20250620.csv',\n",
    "  normalize_names=True\n",
    "  )\n",
    "'''\n",
    "\n",
    "\n",
    "sql_query_3 = '''\n",
    "SELECT * FROM bronze_parking_violations LIMIT 3;\n",
    "'''\n",
    "\n",
    "\n",
    "with duckdb.connect('data/nyc_parking_violations.db') as con:\n",
    "  con.sql(sql_query_import_1)  \n",
    "  con.sql(sql_query_import_2)\n",
    "  con.sql(sql_query_3)"
   ]
  },
  {
   "cell_type": "code",
   "execution_count": null,
   "id": "e109bb25-fcbd-420d-b436-6b1b9a7ea452",
   "metadata": {},
   "outputs": [],
   "source": []
  }
 ],
 "metadata": {
  "kernelspec": {
   "display_name": "Python 3 (ipykernel)",
   "language": "python",
   "name": "python3"
  },
  "language_info": {
   "codemirror_mode": {
    "name": "ipython",
    "version": 3
   },
   "file_extension": ".py",
   "mimetype": "text/x-python",
   "name": "python",
   "nbconvert_exporter": "python",
   "pygments_lexer": "ipython3",
   "version": "3.13.3"
  }
 },
 "nbformat": 4,
 "nbformat_minor": 5
}
